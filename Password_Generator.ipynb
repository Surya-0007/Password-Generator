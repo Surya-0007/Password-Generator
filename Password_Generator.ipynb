{
  "nbformat": 4,
  "nbformat_minor": 0,
  "metadata": {
    "colab": {
      "provenance": [],
      "authorship_tag": "ABX9TyN1BEwJHPru+O/7+r7I2mP2",
      "include_colab_link": true
    },
    "kernelspec": {
      "name": "python3",
      "display_name": "Python 3"
    },
    "language_info": {
      "name": "python"
    }
  },
  "cells": [
    {
      "cell_type": "markdown",
      "metadata": {
        "id": "view-in-github",
        "colab_type": "text"
      },
      "source": [
        "<a href=\"https://colab.research.google.com/github/Surya-0007/Password-Generator/blob/main/Password_Generator.ipynb\" target=\"_parent\"><img src=\"https://colab.research.google.com/assets/colab-badge.svg\" alt=\"Open In Colab\"/></a>"
      ]
    },
    {
      "cell_type": "code",
      "execution_count": 58,
      "metadata": {
        "colab": {
          "base_uri": "https://localhost:8080/"
        },
        "id": "-c_43lJxvG1g",
        "outputId": "d65fd05c-db14-4719-f5f0-4028c425868f"
      },
      "outputs": [
        {
          "output_type": "stream",
          "name": "stdout",
          "text": [
            "Fh5CI@rT4E\n"
          ]
        }
      ],
      "source": [
        "import random as r\n",
        "import string\n",
        "\n",
        "def generate_random_password(length):\n",
        "  letters = string.ascii_letters + string.digits + \"@!$&_\"  # + string.punctuation\n",
        "  return ''.join(r.choice(letters) for _ in range(length)) # r.choice(letters) is randomly selecting from letters, and it is done (length) number of times as we are using for loop for this, join() function is joining all the selected letters\n",
        "\n",
        "random_password = generate_random_password(10)\n",
        "print(random_password)"
      ]
    }
  ]
}